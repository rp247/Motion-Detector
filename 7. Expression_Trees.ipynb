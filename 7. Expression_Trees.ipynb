{
  "nbformat": 4,
  "nbformat_minor": 0,
  "metadata": {
    "colab": {
      "name": "Homework_7_Resubmission_Expression_Trees.ipynb",
      "provenance": [],
      "collapsed_sections": []
    },
    "kernelspec": {
      "display_name": "Python 3",
      "language": "python",
      "name": "python3"
    },
    "language_info": {
      "codemirror_mode": {
        "name": "ipython",
        "version": 3
      },
      "file_extension": ".py",
      "mimetype": "text/x-python",
      "name": "python",
      "nbconvert_exporter": "python",
      "pygments_lexer": "ipython3",
      "version": "3.7.3"
    },
    "test_info": {
      "id": "4f3e8b1d36402d544b4898da9da6c29aa6ef2c19"
    }
  },
  "cells": [
    {
      "cell_type": "markdown",
      "metadata": {
        "id": "Q3DdLaSUV_mc"
      },
      "source": [
        "Before you turn this problem in, make sure everything runs as expected. First, **restart the kernel** (in the menubar, select Kernel$\\rightarrow$Restart) and then **run all cells** (in the menubar, select Cell$\\rightarrow$Run All).\n",
        "\n",
        "Make sure you fill in any place that says `YOUR CODE HERE` or \"YOUR ANSWER HERE\", as well as your name and collaborators below:"
      ]
    },
    {
      "cell_type": "code",
      "metadata": {
        "id": "TWJbbA2ZV_mh"
      },
      "source": [
        "NAME = \"Ruchit Patel\"\n",
        "COLLABORATORS = \"\""
      ],
      "execution_count": null,
      "outputs": []
    },
    {
      "cell_type": "markdown",
      "metadata": {
        "id": "lIZSH0mNV_mn"
      },
      "source": [
        "---"
      ]
    },
    {
      "cell_type": "markdown",
      "metadata": {
        "deletable": false,
        "editable": false,
        "nbgrader": {
          "checksum": "a5d4cff1bfadcd0d5a7d6a321e6613c8",
          "grade": false,
          "grade_id": "cell-b4ddb837b6cd125d",
          "locked": true,
          "schema_version": 1,
          "solution": false
        },
        "id": "XpUsdtmlV_mo"
      },
      "source": [
        "# Homework 7 Resubmission: Expression Trees\n",
        "\n",
        "Copyright Luca de Alfaro, 2019-20. \n",
        "License: [CC-BY-NC-ND](https://creativecommons.org/licenses/by-nc-nd/4.0/)."
      ]
    },
    {
      "cell_type": "markdown",
      "metadata": {
        "deletable": false,
        "editable": false,
        "nbgrader": {
          "checksum": "60bfafe19c200a4048a873feed9f56bd",
          "grade": false,
          "grade_id": "cell-deabe6385dbf079d",
          "locked": true,
          "schema_version": 1,
          "solution": false
        },
        "id": "sJrFMzLjV_mo"
      },
      "source": [
        "## Submission\n",
        "\n",
        "[Please submit to this Google Form](https://docs.google.com/forms/d/e/1FAIpQLSe99_Vjy0uHT_PeKcl4dWu1A4KKkAUS1JBhXb679resr0JpNA/viewform?usp=sf_link).\n",
        "\n",
        "Deadline: Monday November 16, 11pm (check on Canvas for updated information)."
      ]
    },
    {
      "cell_type": "markdown",
      "metadata": {
        "id": "K1iprSbcV_mp"
      },
      "source": [
        "## The assignment\n",
        "\n",
        "There are three questions in this assignment, each labeled `Question n:`, and each followed by one or more test cells:\n",
        "\n",
        "* A question on printing out expressions in LaTeX, \n",
        "* A question on derivatives,\n",
        "* A question on checking expression equality."
      ]
    },
    {
      "cell_type": "markdown",
      "metadata": {
        "deletable": false,
        "editable": false,
        "nbgrader": {
          "checksum": "f34d3d7cd714483ea63dd4ecd99d6b1a",
          "grade": false,
          "grade_id": "cell-1eef897c16ae7c5c",
          "locked": true,
          "schema_version": 1,
          "solution": false
        },
        "id": "cDmoZ9S2V_mq"
      },
      "source": [
        "We will develop a data structure to represent arithmetic expressions containing variables, such as $3 + 4$ or $2 + x * (1 - y)$.  \n",
        "\n",
        "What is an expression?  An expression consists of one of these: \n",
        "\n",
        "\n",
        "1. A number\n",
        "2. A variable\n",
        "3. If $e_1$ and $e_2$ are expressions, then $e_1 + e_2$, $e_1 - e_2$, $e_1 * e_2$, and $e_1 / e_2$ are also expressions. \n",
        "\n",
        "Formally, the set of expressions is the _least_ set constructed according to the rules above. \n",
        "\n",
        "Thus, an expression can be either a constant, representing numbers and variables, or a composite expression, consisting of an operator, a left expression, and a right expression.  \n"
      ]
    },
    {
      "cell_type": "markdown",
      "metadata": {
        "deletable": false,
        "editable": false,
        "nbgrader": {
          "checksum": "4f03ae847ff88ef66263b98715a6ea48",
          "grade": false,
          "grade_id": "cell-367a6ba7ae8ce08",
          "locked": true,
          "schema_version": 1,
          "solution": false
        },
        "id": "51hPs5FGV_mr"
      },
      "source": [
        "There are (at least) two ways of representing expressions. The simplest way is to represent expressions as trees, and define operations on them. \n",
        "The more sophisticated way consists in representing expressions via classes: there will be one class for variable and constants, and one class representing composite expressions; both of these classes will be subclasses of a generic \"expression\" class. \n",
        "\n",
        "In this chapter, we will represent expression as trees, to gain experience with writing recursive functions on trees; in the next chapter, we will show how to represent them more elegantly as classes."
      ]
    },
    {
      "cell_type": "markdown",
      "metadata": {
        "deletable": false,
        "editable": false,
        "nbgrader": {
          "checksum": "97744fff2401606b8a3764cbcb14370a",
          "grade": false,
          "grade_id": "cell-4f9963e65bfa7f24",
          "locked": true,
          "schema_version": 1,
          "solution": false
        },
        "id": "kUB1ZCk5V_mr"
      },
      "source": [
        "We will represent expressions as trees.  A number will be represented via a number; a variable via a string, and the expression $e_1 \\odot e_2$ via the tuple $(\\odot, e_1, e_2)$, for $\\odot \\in \\{+, -, *, / \\}$.\n",
        "\n",
        "For example, we will represent $2 * (x + 1)$ via:\n",
        "\n",
        "    ('*', 2, ('+', 'x', 1))"
      ]
    },
    {
      "cell_type": "code",
      "metadata": {
        "deletable": false,
        "editable": false,
        "nbgrader": {
          "checksum": "ff9dd21c9b5cebc05a51dddf8f0c3372",
          "grade": false,
          "grade_id": "cell-b2d84e2d75b1834b",
          "locked": true,
          "schema_version": 1,
          "solution": false
        },
        "id": "v3Ik-U7lV_ms"
      },
      "source": [
        "e = ('*', 2, ('+', 'x', 1))\n"
      ],
      "execution_count": null,
      "outputs": []
    },
    {
      "cell_type": "markdown",
      "metadata": {
        "deletable": false,
        "editable": false,
        "nbgrader": {
          "checksum": "90f23d4be6fd84cbf132b2497f87f84f",
          "grade": false,
          "grade_id": "cell-0ef73bcc5b3c9143",
          "locked": true,
          "schema_version": 1,
          "solution": false
        },
        "id": "ewDUwX6wV_mw"
      },
      "source": [
        "Let us define a check function, in preparation for our first question."
      ]
    },
    {
      "cell_type": "code",
      "metadata": {
        "deletable": false,
        "editable": false,
        "nbgrader": {
          "checksum": "3a4da5274c6f62d706e62940d7ccf319",
          "grade": false,
          "grade_id": "cell-cb08bfd0538a01cb",
          "locked": true,
          "schema_version": 1,
          "solution": false
        },
        "id": "TpUbuwKsV_mw"
      },
      "source": [
        "def check_equal(x, y, msg=None):\n",
        "    if x != y:\n",
        "        if msg is None:\n",
        "            print(\"Error:\")\n",
        "        else:\n",
        "            print(\"Error in\", msg, \":\")\n",
        "        print(\"    Your answer was:\", x)\n",
        "        print(\"    Correct answer: \", y)\n",
        "    assert x == y, \"%r and %r are different\" % (x, y)\n",
        "    print(\"Success\")"
      ],
      "execution_count": null,
      "outputs": []
    },
    {
      "cell_type": "markdown",
      "metadata": {
        "deletable": false,
        "editable": false,
        "nbgrader": {
          "checksum": "b8c5993f5da061acf7ba9254fe05cc41",
          "grade": false,
          "grade_id": "cell-4aaaa507299e3412",
          "locked": true,
          "schema_version": 1,
          "solution": false
        },
        "id": "2tENOa7QV_mz"
      },
      "source": [
        "## Question 1: Printing an expression in LaTeX format\n",
        "\n",
        "Our first question asks you to write a function `expr_to_latex` so that, for an expression `e`, `expr_to_latex(e)` will produce a string which is the LaTeX representation of the expression `e`. \n",
        "This sounds complicated, but the rules are simple: \n",
        "\n",
        "* Numbers and variable names are simply converted to strings (you can use str()). \n",
        "* If e = (op, e1, e2), then you compute the strings s1 and s2 representing e1 and e2 via a recursive call.\n",
        "* If op is one of `\"+\"`, `\"-\"`, `\"*\"`, you proceed as follows: \n",
        "    \n",
        "    * Enclose s1 in parentheses if: \n",
        "        \n",
        "        e1 is not a leaf, and its operator is not `\"/\"`\n",
        "        \n",
        "      To enclose s1 in parentheses, do: `s1 = \"(\" + s1 + \")\"`;\n",
        "    * Same for e2;\n",
        "    * Finally, you output s1 + op + s2, where op is one of `+`, `-`, `*`. \n",
        "* If you have e1 / e2, you output `\\frac{s1}{s2}`.\n",
        "\n",
        "To test whether parentheses are needed, for an expression e1, you can use this code: \n",
        "\n",
        "    if isinstance(e1, tuple) and e1[0] != '/':\n",
        "\n",
        "Some examples will help: \n",
        "\n",
        "If the expression is\n",
        "\n",
        "    (\"+\", 3, \"x\")\n",
        "    \n",
        "the latex output is simply `\"3+x\"`.  If the expression is \n",
        "\n",
        "    (\"+\", 3, (\"*\", 2, \"x\"))\n",
        "\n",
        "you should output \n",
        "\n",
        "    \"3+(2*x)\"\n",
        "    \n",
        "where the parentheses have been added because the expression `(\"*\", 2, \"x\")` is not a leaf. \n",
        "If the expression is \n",
        "\n",
        "    (\"/\", (\"+\", 3, (\"*\", 2, \"x\")), (\"+\", 1, \"x\"))\n",
        "    \n",
        "you should output: \n",
        "\n",
        "    \\frac{3+(2*x)}{1+x}\n",
        "    "
      ]
    },
    {
      "cell_type": "markdown",
      "metadata": {
        "id": "nmnvY8CMV_m0"
      },
      "source": [
        "One word of caution about Python strings.  To include a `\\` in a string, you have to quote it, as in `\"\\\\\"`. \n",
        "So to generate the string `\\frac`, you have to actually write `\"\\\\frac\"` in your code. "
      ]
    },
    {
      "cell_type": "code",
      "metadata": {
        "deletable": false,
        "nbgrader": {
          "checksum": "94517672f088a185c064b0b22df0f450",
          "grade": false,
          "grade_id": "cell-3fc0f1961983e06f",
          "locked": false,
          "schema_version": 1,
          "solution": true
        },
        "id": "BAI5qE7YV_m0"
      },
      "source": [
        "### Question 1: define expr_to_latex\n",
        "\n",
        "def expr_to_latex(e):\n",
        "    # YOUR CODE HERE\n",
        "    if not isinstance(e, tuple):\n",
        "        return str(e)\n",
        "        \n",
        "    else:\n",
        "        e1, e2 = e[1], e[2]\n",
        "        s1, s2, op = expr_to_latex(e1) ,  expr_to_latex(e2), str(e[0])\n",
        "\n",
        "        if op == \"/\":\n",
        "            return \"\\\\frac{\" + s1 + \"}{\" + s2 +\"}\"\n",
        "        if isinstance(e1, tuple) and e1[0] != \"/\":\n",
        "                s1 = \"(\" + s1 + \")\"\n",
        "        if isinstance(e2, tuple) and e2[0] != \"/\":\n",
        "                s2 = \"(\" + s2 + \")\"  \n",
        "    \n",
        "        return s1 + op + s2"
      ],
      "execution_count": null,
      "outputs": []
    },
    {
      "cell_type": "code",
      "metadata": {
        "deletable": false,
        "nbgrader": {
          "checksum": "32d772f60caae994788087d683104bb9",
          "grade": false,
          "grade_id": "cell-6d37fef422322859",
          "locked": false,
          "schema_version": 1,
          "solution": true
        },
        "id": "yG1O6a9gV_m3"
      },
      "source": [
        "# You may want to write in this cell some tests that help you debug your \n",
        "# implementation, beyond the tests that are given already.\n",
        "\n",
        "# YOUR CODE HERE"
      ],
      "execution_count": null,
      "outputs": []
    },
    {
      "cell_type": "code",
      "metadata": {
        "deletable": false,
        "editable": false,
        "nbgrader": {
          "checksum": "71a2e3977b3214bf568ef500ac14c3d6",
          "grade": true,
          "grade_id": "cell-7ab5a60722b73c1f",
          "locked": true,
          "points": 5,
          "schema_version": 1,
          "solution": false
        },
        "id": "YxIDsvNQV_m7"
      },
      "source": [
        "### Question 1, part 1: 5 points: tests for leaves. \n",
        "\n",
        "check_equal(expr_to_latex(3), \"3\")\n",
        "check_equal(expr_to_latex(\"x\"), \"x\")\n",
        "check_equal(expr_to_latex(3.1), \"3.1\")\n",
        "# Hey, I never said that a variable can't be called \\foo! \n",
        "check_equal(expr_to_latex(\"\\\\foo\"), \"\\\\foo\")\n"
      ],
      "execution_count": null,
      "outputs": []
    },
    {
      "cell_type": "code",
      "metadata": {
        "deletable": false,
        "editable": false,
        "nbgrader": {
          "checksum": "e18f519d05031591a39114157c7053c4",
          "grade": true,
          "grade_id": "cell-5ff30fed1e5a2476",
          "locked": true,
          "points": 5,
          "schema_version": 1,
          "solution": false
        },
        "id": "cviMUA14V_m-"
      },
      "source": [
        "### Question 1, part 2: 5 points: simple expressions. \n",
        "e = (\"+\", 3, \"x\")\n",
        "check_equal(expr_to_latex(e), \"3+x\")\n",
        "e = (\"-\", \"y\", \"x\")\n",
        "check_equal(expr_to_latex(e), \"y-x\")\n",
        "e = (\"*\", \"y\", \"2\")\n",
        "check_equal(expr_to_latex(e), \"y*2\")\n",
        "e = (\"/\", \"y\", \"2\")\n",
        "check_equal(expr_to_latex(e), \"\\\\frac{y}{2}\")\n"
      ],
      "execution_count": null,
      "outputs": []
    },
    {
      "cell_type": "code",
      "metadata": {
        "deletable": false,
        "editable": false,
        "nbgrader": {
          "checksum": "61cc299627e6c903379cb253f001c87c",
          "grade": true,
          "grade_id": "cell-43ab997efe4ac674",
          "locked": true,
          "points": 5,
          "schema_version": 1,
          "solution": false
        },
        "id": "YuOeIpijV_nB"
      },
      "source": [
        "### Question 1, part 3: 5 points: when to use parentheses.\n",
        "e = (\"*\", (\"+\", 1, \"x\"), (\"-\", 3, \"y\"))\n",
        "check_equal(expr_to_latex(e), \"(1+x)*(3-y)\")\n",
        "e = (\"*\", (\"+\", 1, \"x\"), \"z\")\n",
        "check_equal(expr_to_latex(e), \"(1+x)*z\")\n",
        "e = (\"*\", (\"-\", \"\\\\foo\", \"hello\"), (\"+\", \"hey\", \"\\\\dude\"))\n",
        "check_equal(expr_to_latex(e), \"(\\\\foo-hello)*(hey+\\\\dude)\")\n"
      ],
      "execution_count": null,
      "outputs": []
    },
    {
      "cell_type": "code",
      "metadata": {
        "deletable": false,
        "editable": false,
        "nbgrader": {
          "checksum": "acd554d4f4a43a43ff0f0ef3240e0458",
          "grade": true,
          "grade_id": "cell-0f373d9147e43eb7",
          "locked": true,
          "points": 10,
          "schema_version": 1,
          "solution": false
        },
        "id": "a508-9ZEV_nE"
      },
      "source": [
        "### Question 1, part 4, 10 points: general expressions.\n",
        "\n",
        "e = (\"*\", (\"+\", 1, \"x\"), (\"-\", (\"*\", \"x\", \"y\"), \"y\"))\n",
        "check_equal(expr_to_latex(e), \"(1+x)*((x*y)-y)\")\n",
        "e = (\"*\", (\"/\", (\"*\", 3, \"y\"), \"x\"), (\"-\", (\"*\", \"x\", \"y\"), \"y\"))\n",
        "check_equal(expr_to_latex(e), \"\\\\frac{3*y}{x}*((x*y)-y)\")\n",
        "e = (\"/\", (\"/\", (\"*\", 3, \"y\"), \"x\"), (\"-\", (\"*\", \"x\", \"y\"), \"y\"))\n",
        "check_equal(expr_to_latex(e), \"\\\\frac{\\\\frac{3*y}{x}}{(x*y)-y}\")\n",
        "e = (\"+\", \"bread\", \"water\")\n",
        "check_equal(expr_to_latex(e), \"bread+water\")\n",
        "e = (\"+\", \"bread\\\\sour\", \"water\")\n",
        "check_equal(expr_to_latex(e), \"bread\\\\sour+water\")\n",
        "# Actually, nothing says that there can't be a variable called \\frac! \n",
        "e = (\"*\", (\"+\", \"\\\\frac\", \"\\\\frog\"), (\"+\", 3, 2))\n",
        "check_equal(expr_to_latex(e), \"(\\\\frac+\\\\frog)*(3+2)\")\n"
      ],
      "execution_count": null,
      "outputs": []
    },
    {
      "cell_type": "markdown",
      "metadata": {
        "id": "rcgVbsUBV_nH"
      },
      "source": [
        "Note that with a tiny bit of work, we can really use `expr_to_latex` to output expressions in LaTeX for us: "
      ]
    },
    {
      "cell_type": "code",
      "metadata": {
        "deletable": false,
        "editable": false,
        "nbgrader": {
          "checksum": "a1f396d52d26fe61485b1e7df09447bd",
          "grade": false,
          "grade_id": "cell-11368c67a32cc59e",
          "locked": true,
          "schema_version": 1,
          "solution": false
        },
        "id": "SGMBp5dfV_nH"
      },
      "source": [
        "from IPython.display import display, Math\n",
        "\n",
        "def niceprint(e):\n",
        "    display(Math(expr_to_latex(e)))"
      ],
      "execution_count": null,
      "outputs": []
    },
    {
      "cell_type": "code",
      "metadata": {
        "deletable": false,
        "editable": false,
        "nbgrader": {
          "checksum": "6c797f48bf6099d70d37f97d8540440c",
          "grade": false,
          "grade_id": "cell-fff7359372afd1ba",
          "locked": true,
          "schema_version": 1,
          "solution": false
        },
        "id": "FHq0RQatV_nK"
      },
      "source": [
        "niceprint((\"/\", (\"+\", 3, (\"*\", 2, \"x\")), (\"+\", 1, \"x\")))"
      ],
      "execution_count": null,
      "outputs": []
    },
    {
      "cell_type": "code",
      "metadata": {
        "deletable": false,
        "editable": false,
        "nbgrader": {
          "checksum": "80e0309c7277b54a06a11e68f521cb91",
          "grade": false,
          "grade_id": "cell-a011496823ce8758",
          "locked": true,
          "schema_version": 1,
          "solution": false
        },
        "id": "tO2cUHH2V_nN"
      },
      "source": [
        "e = (\"*\", (\"/\", (\"*\", 3, \"y\"), \"x\"), (\"-\", (\"*\", \"x\", \"y\"), \"y\"))\n",
        "niceprint(e)"
      ],
      "execution_count": null,
      "outputs": []
    },
    {
      "cell_type": "markdown",
      "metadata": {
        "deletable": false,
        "editable": false,
        "nbgrader": {
          "checksum": "b75a07d4c721519e9cc416f8cb8b7914",
          "grade": false,
          "grade_id": "cell-868f33d1e4fe2bf9",
          "locked": true,
          "schema_version": 1,
          "solution": false
        },
        "id": "jM-FB1_JV_nR"
      },
      "source": [
        "Of course, optimizing the beauty of the output, so that the above is rendered as: \n",
        "\n",
        "$$\n",
        "    \\frac{3 + 2x}{1 + x}\n",
        "$$\n",
        "\n",
        "would require a tiny bit more work.  For instance, we could decide to include the `*` operation only when both left and right subexpressions are numbers.  We should also then convert $x2$ into $2x$... many optimizations are possible.  But we got the basics done. "
      ]
    },
    {
      "cell_type": "markdown",
      "metadata": {
        "deletable": false,
        "editable": false,
        "nbgrader": {
          "checksum": "eba223984df1c3f89a3311380f02170c",
          "grade": false,
          "grade_id": "cell-cd57f8e787d2c0ab",
          "locked": true,
          "schema_version": 1,
          "solution": false
        },
        "id": "LvO3EfMJV_nR"
      },
      "source": [
        "### Evaluating expressions with respect to a variable valuation.\n",
        "\n",
        "Let us define a compute function that evaluates an expression with the help of a _variable valuation_.\n",
        "The idea is that if we specify values for variables, we can then use those values in computing the value of an expression. \n",
        "A _variable valuation_ is a mapping from variables to their values; we can represent it simply as a dictionary associating to each variable a number:"
      ]
    },
    {
      "cell_type": "code",
      "metadata": {
        "deletable": false,
        "editable": false,
        "nbgrader": {
          "checksum": "41bb18f715bee581a1e25db27f78bec7",
          "grade": false,
          "grade_id": "cell-e1f68fbf442ed878",
          "locked": true,
          "schema_version": 1,
          "solution": false
        },
        "id": "pTLx1mhHV_nS"
      },
      "source": [
        "varval = {'x': 3, 'y': 8}\n"
      ],
      "execution_count": null,
      "outputs": []
    },
    {
      "cell_type": "markdown",
      "metadata": {
        "deletable": false,
        "editable": false,
        "nbgrader": {
          "checksum": "caece26db724b43461d6b24965bf6b93",
          "grade": false,
          "grade_id": "cell-667fe03b0a2c79d4",
          "locked": true,
          "schema_version": 1,
          "solution": false
        },
        "id": "qGZebnH0V_nV"
      },
      "source": [
        "\n",
        "We can compute the value of expressions given a variable valuation as follows: "
      ]
    },
    {
      "cell_type": "code",
      "metadata": {
        "deletable": false,
        "editable": false,
        "nbgrader": {
          "checksum": "ee9132de93ed35550196c2d7d115c198",
          "grade": false,
          "grade_id": "cell-43a8338c007883e8",
          "locked": true,
          "schema_version": 1,
          "solution": false
        },
        "id": "pxO50fZYV_nV"
      },
      "source": [
        "from numbers import Number\n",
        "\n",
        "def compute(e, varval={}):\n",
        "    if isinstance(e, Number):\n",
        "        return e\n",
        "    elif isinstance(e, str):\n",
        "        v = varval.get(e)\n",
        "        # If we find a value for e, we return it; otherwise we return e.\n",
        "        return e if v is None else v\n",
        "    else:\n",
        "        op, l, r = e\n",
        "        # We simplify the left and right subexpressions first.\n",
        "        ll = compute(l, varval=varval)\n",
        "        rr = compute(r, varval=varval)\n",
        "        # And we carry out the operation if we can.\n",
        "        if isinstance(ll, Number) and isinstance(rr, Number):\n",
        "            if op == '+':\n",
        "                return ll + rr\n",
        "            elif op == '-':\n",
        "                return ll - rr\n",
        "            elif op == '*':\n",
        "                return ll * rr\n",
        "            elif op == '/' and rr != 0:\n",
        "                return ll / rr\n",
        "        # Not simplifiable.\n",
        "        return (op, ll, rr)\n"
      ],
      "execution_count": null,
      "outputs": []
    },
    {
      "cell_type": "code",
      "metadata": {
        "deletable": false,
        "editable": false,
        "nbgrader": {
          "checksum": "5f306db541eb6b4bfc24bc262b283eb5",
          "grade": false,
          "grade_id": "cell-e44dc70d255c0498",
          "locked": true,
          "schema_version": 1,
          "solution": false
        },
        "id": "eGTlNIKsV_nY"
      },
      "source": [
        "e = ('*', 2, ('+', 'x', ('-', 3, 2)))\n",
        "print(compute(e))\n",
        "print(compute(e, varval={'x': 6}))\n"
      ],
      "execution_count": null,
      "outputs": []
    },
    {
      "cell_type": "markdown",
      "metadata": {
        "deletable": false,
        "editable": false,
        "nbgrader": {
          "checksum": "62af2b415d00dd198bf8a324006084f0",
          "grade": false,
          "grade_id": "cell-2dcf2cbfdf1de6f7",
          "locked": true,
          "schema_version": 1,
          "solution": false
        },
        "id": "MMYeAj_kV_nc"
      },
      "source": [
        "If we provide the values for only some of the variables, the compute function defined above, will plug in the values for those variables and perform all computations possible.  Of course, if the expression contains variables for which the valuation does not specify a value, the resulting expression will still contain those variables: it will not be simply a number.  In computer science, evaluating an expression as far as possible using the values for a subset of the variables is knwon as _partial evaluation_."
      ]
    },
    {
      "cell_type": "code",
      "metadata": {
        "deletable": false,
        "editable": false,
        "nbgrader": {
          "checksum": "978e2a79291eb9763cce526d534c4309",
          "grade": false,
          "grade_id": "cell-a4ce0e9f9025ba7c",
          "locked": true,
          "schema_version": 1,
          "solution": false
        },
        "id": "cMQNlhs-V_nd"
      },
      "source": [
        "e = ('+', ('-', 'y', 3), ('*', 'x', 4))\n",
        "print(compute(e, varval={'x': 2}))\n",
        "print(compute(e, varval={'y': 3}))\n",
        "print(compute(e, varval={'x': 2, 'y': 3}))\n"
      ],
      "execution_count": null,
      "outputs": []
    },
    {
      "cell_type": "markdown",
      "metadata": {
        "deletable": false,
        "editable": false,
        "nbgrader": {
          "checksum": "1b31b52d966af3acdedc1c8e336bdbd6",
          "grade": false,
          "grade_id": "cell-9e3cfd594a6086d3",
          "locked": true,
          "schema_version": 1,
          "solution": false
        },
        "id": "donIu5lVV_nh"
      },
      "source": [
        "## Question 2: Compute symbolic derivatives\n",
        "\n",
        "As we have symbolic expressions, we can compute their (partial) derivative with respect to any variable.  Given an expression $e$ and a variable $x$, we denote by $\\partial e / \\partial x$ the partial derivative of $e$ with respect to $x$.  To compute it, we can simply rely on the definition of derivative. \n",
        "For leaf nodes in the expression tree:\n",
        "\n",
        "* For a constant $c$, $\\partial c / \\partial x = 0$.\n",
        "* For a variable $y \\neq x$,  $\\partial y / \\partial x = 0$.\n",
        "* $\\partial x / \\partial x = 1$.\n",
        "\n",
        "For operators, we can use:\n",
        "\n",
        "$$\n",
        " \\begin{align*}\n",
        " \\frac{\\partial}{\\partial x}(f \\pm g) & = \\frac{\\partial f}{\\partial x} \\pm \\frac  {\\partial g}{\\partial x}, \\\\[1ex]\n",
        " \\frac{\\partial}{\\partial x}(f \\cdot g) & = g \\cdot \\frac{\\partial f}{\\partial x}  + f \\cdot \\frac{\\partial g}{\\partial x}, \\\\[1ex]\n",
        " \\frac{\\partial}{\\partial x}\\left(\\frac{f}{g}\\right) & = \\frac{g \\cdot \\frac\n",
        "  {\\partial f}{\\partial x} - f \\cdot \\frac{\\partial g}{\\partial x}}{g^2}. \n",
        "\\end{align*}\n",
        "$$\n",
        "\n",
        "This directly suggest how to implement the symbolic computation of derivatives."
      ]
    },
    {
      "cell_type": "markdown",
      "metadata": {
        "deletable": false,
        "editable": false,
        "nbgrader": {
          "checksum": "03297aff87bcd5f74d2a765a6240e485",
          "grade": false,
          "grade_id": "cell-6bf1e08d3f001365",
          "locked": true,
          "schema_version": 1,
          "solution": false
        },
        "id": "IUAIPClzV_nh"
      },
      "source": [
        "Write a function `derivate` that, given an expression $e$ and a variable $x$, returns an expression for $\\partial e / \\partial x$.  Please, write it according to the above rules, including order of terms in products.  For instance, use\n",
        "\n",
        "$$ \n",
        "\\frac{\\partial}{\\partial x}(f \\cdot g) = g \\cdot \\frac{\\partial f}{\\partial x}  + f \\cdot \\frac{\\partial g}{\\partial x}\n",
        "$$\n",
        "rather than \n",
        "$$ \n",
        "\\frac{\\partial}{\\partial x}(f \\cdot g) = \\frac{\\partial f}{\\partial x} \\cdot g + f \\cdot \\frac{\\partial g}{\\partial x}\n",
        "$$\n",
        "\n",
        "While the two expressions are equivalent, our tests (so far!) can only check for _identical_, not _equivalent_, expressions."
      ]
    },
    {
      "cell_type": "code",
      "metadata": {
        "deletable": false,
        "nbgrader": {
          "checksum": "04d49921fa33289438c8d6fd54bc135b",
          "grade": false,
          "grade_id": "cell-3a3d0562ca39237",
          "locked": false,
          "schema_version": 1,
          "solution": true
        },
        "id": "VFVpGFiqV_ni"
      },
      "source": [
        "### Implement `derivate`\n",
        "\n",
        "def derivate(e, x):\n",
        "    \"\"\"Returns the derivative of e wrt x.\n",
        "    It can be done in less than 15 lines of code.\"\"\"\n",
        "    # YOUR CODE HERE\n",
        "    if e == x:\n",
        "        return 1\n",
        "    elif isinstance(e, str) or isinstance(e, Number):\n",
        "        return 0\n",
        "    else:\n",
        "        op, s1, s2 = e[0], derivate(e[1], x), derivate(e[2], x)\n",
        "        if op == \"+\" or op == \"-\":\n",
        "            return (op, s1, s2)\n",
        "        if op == \"*\":\n",
        "            return (\"+\", (op, e[2], s1), (op, e[1], s2))\n",
        "        if op == \"/\":\n",
        "            return (\"/\", (\"-\", (\"*\", e[2], s1), (\"*\", e[1], s2)), (\"*\", e[2], e[2]))\n"
      ],
      "execution_count": null,
      "outputs": []
    },
    {
      "cell_type": "code",
      "metadata": {
        "deletable": false,
        "nbgrader": {
          "checksum": "1ac244fa12dc7c8d7bc33115d7301413",
          "grade": false,
          "grade_id": "cell-6a4ed8bb1f9ef99e",
          "locked": false,
          "schema_version": 1,
          "solution": true
        },
        "id": "92dC3fQGV_nl"
      },
      "source": [
        "# You may want to write in this cell some tests that help you debug your \n",
        "# implementation, beyond the tests that are given already.\n",
        "\n",
        "# YOUR CODE HERE"
      ],
      "execution_count": null,
      "outputs": []
    },
    {
      "cell_type": "code",
      "metadata": {
        "deletable": false,
        "editable": false,
        "nbgrader": {
          "checksum": "d1d184dd16571591d0abdb2cce448f45",
          "grade": true,
          "grade_id": "cell-d02a199429cfa96b",
          "locked": true,
          "points": 5,
          "schema_version": 1,
          "solution": false
        },
        "id": "yUahOvXgV_nn"
      },
      "source": [
        "### Question 2, part 1: 5 points. \n",
        "# Base case tests for `derivate`\n",
        "\n",
        "# First, the basics.\n",
        "check_equal(derivate(3, 'x'), 0)\n",
        "check_equal(derivate('y', 'x'), 0)\n",
        "check_equal(derivate('x', 'x'), 1)\n",
        "check_equal(derivate(\"x\", \"a\"), 0)\n",
        "check_equal(derivate(\"a\", \"a\"), 1)\n",
        "\n"
      ],
      "execution_count": null,
      "outputs": []
    },
    {
      "cell_type": "code",
      "metadata": {
        "deletable": false,
        "editable": false,
        "nbgrader": {
          "checksum": "ef1461c3fb1394b6c06116375ab63b72",
          "grade": true,
          "grade_id": "cell-70988a871dd2b28a",
          "locked": true,
          "points": 5,
          "schema_version": 1,
          "solution": false
        },
        "id": "5UN4Lec-V_nq"
      },
      "source": [
        "### Question 2, part 2: 5 points. \n",
        "### Tests for `derivate` for single-operator expressions\n",
        "\n",
        "check_equal(derivate(('+', 'x', 'x'), 'x'), ('+', 1, 1))\n",
        "check_equal(derivate(('-', 4, 'x'), 'x'), ('-', 0, 1))\n",
        "check_equal(derivate(('*', 2, 'x'), 'x'),\n",
        "            ('+', ('*', 'x', 0), ('*', 2, 1)))\n",
        "check_equal(derivate(('/', 2, 'x'), 'x'),\n",
        "            ('/', ('-', ('*', 'x', 0), ('*', 2, 1)), ('*', 'x', 'x')))\n",
        "check_equal(derivate(('/', 'a', 'b'), 'a'),\n",
        "            ('/', ('-', ('*', 'b', 1), ('*', 'a', 0)), ('*', 'b', 'b')))\n",
        "check_equal(derivate(('/', 'a', 'b'), 'b'),\n",
        "            ('/', ('-', ('*', 'b', 0), ('*', 'a', 1)), ('*', 'b', 'b')))\n",
        "\n"
      ],
      "execution_count": null,
      "outputs": []
    },
    {
      "cell_type": "code",
      "metadata": {
        "deletable": false,
        "editable": false,
        "nbgrader": {
          "checksum": "fdb0503eb2763c15f35fb1616da0f996",
          "grade": true,
          "grade_id": "cell-7b9aadcd1ccc31be",
          "locked": true,
          "points": 5,
          "schema_version": 1,
          "solution": false
        },
        "id": "kDmQ1eMTV_ns"
      },
      "source": [
        "### Question 2, part 3: 5 points. \n",
        "### Tests for `derivate` for composite expressions\n",
        "\n",
        "e1 = ('*', 'x', 'x')\n",
        "e2 = ('*', 3, 'x')\n",
        "num = ('-', e1, e2)\n",
        "e3 = ('*', 'a', 'x')\n",
        "den = ('+', e1, e3)\n",
        "e = ('/', num, den)\n",
        "\n",
        "f = ('/',\n",
        " ('-',\n",
        "  ('*',\n",
        "   ('+', ('*', 'x', 'x'), ('*', 'a', 'x')),\n",
        "   ('-',\n",
        "    ('+', ('*', 'x', 1), ('*', 'x', 1)),\n",
        "    ('+', ('*', 'x', 0), ('*', 3, 1)))),\n",
        "  ('*',\n",
        "   ('-', ('*', 'x', 'x'), ('*', 3, 'x')),\n",
        "   ('+',\n",
        "    ('+', ('*', 'x', 1), ('*', 'x', 1)),\n",
        "    ('+', ('*', 'x', 0), ('*', 'a', 1))))),\n",
        " ('*',\n",
        "  ('+', ('*', 'x', 'x'), ('*', 'a', 'x')),\n",
        "  ('+', ('*', 'x', 'x'), ('*', 'a', 'x'))))\n",
        "\n",
        "check_equal(derivate(e, 'x'), f)\n"
      ],
      "execution_count": null,
      "outputs": []
    },
    {
      "cell_type": "markdown",
      "metadata": {
        "deletable": false,
        "editable": false,
        "nbgrader": {
          "checksum": "18d77bd6fee079b32c2f914382fa007d",
          "grade": false,
          "grade_id": "cell-e7ee97d41d255e09",
          "locked": true,
          "schema_version": 1,
          "solution": false
        },
        "id": "N-oABKOnV_nw"
      },
      "source": [
        "## Question 3: expression equality\n",
        "\n",
        "We now consider the following problem: given two expressions $e$ and $f$, how can we decide whether they are equal in value, that is, whether they yield always the same value for all values of the variables? \n",
        "\n",
        "This _\"value equality\"_ is a different notion from the structural equality we defined before.  For instance, the two expressions `V('x') + 1` and `2 * V('x') + 1 - V('x')` are not structurally equal, but they are equal in values.  \n",
        "\n",
        "How can we test for value equality of expressions?  There are two ways: the high road one, and the pirate one.  \n",
        "\n",
        "The high-road approach consists in trying to demonstrate, in some way, that the two expressions are equal.  One way of doing so would be to define a set of [rewriting rules](https://en.wikipedia.org/wiki/Rewriting) for expressions, that try to transform one expression into the other; this would mimick the process often done by hand to show that two expressions are equal.  Another way would be to use theorem provers that can reason about expressions and real numbers, such as [PVS](https://pvs.csl.sri.com).  The problem is that these approaches are a lot of work.  Is there a way to be lazy, and still get the job done? \n",
        "\n",
        "There is, it turns out.  Suppose you have two expressions $f, g$ containing variable $x$ only.  The idea is that if $f$ and $g$ are built with the usual operators of algebra, it is exceedingly unlikely for $f$ and $g$ to give the same value  many values of $x$, and yet not be always equal.  This would not be true if our expressions could contain if-then-else statements, but for the operators we defined so far, it holds.  Indeed, one could be more precise, and try to come up with a theorem of the form: \n",
        "\n",
        "> If $f$ and $g$ have \"zerosity\" $n$, and are equal for $n+1$ values of $x$, then they are equal for all values of $x$. \n",
        "\n",
        "We could then try to define the \"zerosity\" of an expression to make this hold: for example, for two polynomials of degree at most $d$, once you show that they are equal for $d+1$ points, they must be equal everywhere ([why?](https://en.wikipedia.org/wiki/Fundamental_theorem_of_algebra)).  But this again would be a smart approach, and we are trying to see if we can solve the problem while being as stupid as possible.  So our idea will simply be: pick 1000 values of $x$ at random; if the two expressions are equal for all the values, then they must be equal everywhere.  This is a somewhat special case of a [Monte Carlo method](https://en.wikipedia.org/wiki/Monte_Carlo_method), a method used to estimate the probability of complex phenomena (where expression equality is our phenomenon).\n",
        "\n",
        "There are only two wrinkles with this.  The first is that an expression can contain many variables, and we have to try to value assignments for all of the variables.  This is easy to overcome; we just need some helper function that gives us the set of variables in a function.  The second wrinkle is: how do we generate the possible value assignments?  How big do these values need to be on average?  According to what probability distribution?  We could dive into a lot of theory and reasoning about how to compute appropriate probability distributions, but since our goal is to be stupid, we will use one of the simplest distributions with infinite domain: the Gaussian one. \n",
        "\n",
        "Let us start by writing the function `variables` such that, if `e` is an expression, `variables(e)` is the set of variables that appear in it."
      ]
    },
    {
      "cell_type": "code",
      "metadata": {
        "deletable": false,
        "nbgrader": {
          "checksum": "d78d7ccfde7e39d74e976c0cd1d84ea0",
          "grade": false,
          "grade_id": "cell-d7dda9f4dd7b9112",
          "locked": false,
          "schema_version": 1,
          "solution": true
        },
        "id": "UJKHJahFV_nw"
      },
      "source": [
        "### Exercise: define `variables`\n",
        "\n",
        "# YOUR CODE HERE\n",
        "def variables(e):\n",
        "    if  isinstance(e, str):\n",
        "        return e\n",
        "    elif isinstance(e, Number):\n",
        "        return set()\n",
        "    else:\n",
        "        e1, e2 = variables(e[1]), variables(e[2])\n",
        "        e1_list, e2_list = list(), list()\n",
        "        if  isinstance(e1, set) and isinstance(e2, set):\n",
        "            return e1 | e2\n",
        "        if not isinstance(e1, set) and len(e1) != 0:\n",
        "            e1_list.append(e1)\n",
        "        if not isinstance(e2, set) and len(e2) != 0:\n",
        "            e2_list.append(e2)\n",
        "        return set(e1_list) | set(e2_list) "
      ],
      "execution_count": null,
      "outputs": []
    },
    {
      "cell_type": "code",
      "metadata": {
        "deletable": false,
        "nbgrader": {
          "checksum": "ec189e152716f2f902eef184ef065538",
          "grade": false,
          "grade_id": "cell-d60c9d7e77eecac7",
          "locked": false,
          "schema_version": 1,
          "solution": true
        },
        "id": "bTJqwnaLV_nz"
      },
      "source": [
        "# You may want to write in this cell some tests that help you debug your \n",
        "# implementation, beyond the tests that are given already.\n",
        "\n",
        "# YOUR CODE HERE\n",
        "e7 = (\"+\", \"aa\", \"aa\")\n",
        "e8 = (\"+\", \"aa\", \"ab\")\n",
        "e9 = (\"*\", 2, \"aa\")\n",
        "\n",
        "print(\"e9_vars: \", variables(e9))"
      ],
      "execution_count": null,
      "outputs": []
    },
    {
      "cell_type": "code",
      "metadata": {
        "deletable": false,
        "editable": false,
        "nbgrader": {
          "checksum": "add629e72da8353c7dfe7242e08d54f3",
          "grade": true,
          "grade_id": "cell-11bbc7de7991be0",
          "locked": true,
          "points": 5,
          "schema_version": 1,
          "solution": false
        },
        "id": "JkPiHJG1V_n3"
      },
      "source": [
        "### Question 3, part 1: 5 points\n",
        "### Tests for `Expr.variables`\n",
        "\n",
        "e = ('*', ('+', 'x', 2), ('/', 'x', 'y'))\n",
        "check_equal(variables(e), {'x', 'y'})\n",
        "e = 5\n",
        "check_equal(variables(e), set())\n",
        "\n"
      ],
      "execution_count": null,
      "outputs": []
    },
    {
      "cell_type": "markdown",
      "metadata": {
        "deletable": false,
        "editable": false,
        "nbgrader": {
          "checksum": "66be5a42a20f10c2b47f0753c4ac47c3",
          "grade": false,
          "grade_id": "cell-5ecea70109bc29b3",
          "locked": true,
          "schema_version": 1,
          "solution": false
        },
        "id": "LMQs1IZoV_n6"
      },
      "source": [
        "Now write the `value_equality` method for expressions.  The idea is perform an equality test `num_samples` times.  Each time, you produce a variable assignment (a dictionary) `d` mapping variables to random values, and then you use the `compute(e1, varval=d)` function to evaluate `e1` under that assignment, and similarly for `e2`.  You can then compare the resulting values, up to the tolerance `tolerance`.  All of this can be done in six lines of code (it's ok if you use a few more). "
      ]
    },
    {
      "cell_type": "code",
      "metadata": {
        "deletable": false,
        "nbgrader": {
          "checksum": "557573e73ef6747995605c192f8b45c0",
          "grade": false,
          "grade_id": "cell-4d50237429a9c85c",
          "locked": false,
          "schema_version": 1,
          "solution": true
        },
        "id": "jfXUxY0zV_n6"
      },
      "source": [
        "### Exercise: implementation of value equality\n",
        "\n",
        "import random\n",
        "\n",
        "def value_equality(e1, e2, num_samples=1000, tolerance=1e-6):\n",
        "    \"\"\"Return True if the two expressions self and other are numerically\n",
        "    equivalent.  Equivalence is tested by generating\n",
        "    num_samples assignments, and checking that equality holds\n",
        "    for all of them.  Equality is checked up to tolerance, that is,\n",
        "    the values of the two expressions have to be closer than tolerance.\n",
        "    It can be done in less than 10 lines of code.\"\"\"\n",
        "    # YOUR CODE HERE\n",
        "    if not (isinstance(e1, tuple) or isinstance(e2, tuple)):\n",
        "        return e1== e2\n",
        "    e1_vars, e2_vars = variables(e1), variables(e2)\n",
        "    common_vars = set(e1_vars) & set(e2_vars)\n",
        "    for i in range(num_samples):\n",
        "        rand_value =  random.random()\n",
        "        temp1 = {x: rand_value for x in common_vars}\n",
        "        tempe1 = {x: random.random() for x in set(e1_vars) - set(common_vars)}\n",
        "        e1_d = {**temp1, **tempe1}\n",
        "        tempe2 = {x: random.random() for x in set(e2_vars) - set(common_vars)}\n",
        "        e2_d = {**temp1, ** tempe2}\n",
        "        e1_ret, e2_ret = compute(e1, varval=e1_d), compute(e2, varval=e2_d)\n",
        "        if not abs(e1_ret - e2_ret <= tolerance):\n",
        "            return False\n",
        "    return True\n"
      ],
      "execution_count": null,
      "outputs": []
    },
    {
      "cell_type": "code",
      "metadata": {
        "deletable": false,
        "nbgrader": {
          "checksum": "c03124a170fff22efea784d615010c17",
          "grade": false,
          "grade_id": "cell-f7751b6ef426d106",
          "locked": false,
          "schema_version": 1,
          "solution": true
        },
        "id": "7IQVHyoBV_n_"
      },
      "source": [
        "# You may want to write in this cell some tests that help you debug your \n",
        "# implementation, beyond the tests that are given already.\n",
        "\n",
        "# YOUR CODE HERE\n",
        "e7 = (\"+\", \"aa\", \"aa\")\n",
        "e8 = (\"+\", \"aa\", \"ab\")\n",
        "e9 = (\"*\", 2, \"aa\")\n",
        "# check_equal(value_equality(e7, e8), False)\n",
        "check_equal(value_equality(e8, e7), False)"
      ],
      "execution_count": null,
      "outputs": []
    },
    {
      "cell_type": "code",
      "metadata": {
        "deletable": false,
        "editable": false,
        "nbgrader": {
          "checksum": "950e6947fcbfe2b569e0e8c6b3efa7e5",
          "grade": true,
          "grade_id": "cell-6b1aec1c2d75c985",
          "locked": true,
          "points": 10,
          "schema_version": 1,
          "solution": false
        },
        "id": "loxWqN4aV_oB"
      },
      "source": [
        "### Tests for value equality\n",
        "\n",
        "e1 = ('+', ('*', 'x', 1), ('*', 'y', 0))\n",
        "e2 = 'x'\n",
        "check_equal(value_equality(e1, e2), True)\n",
        "\n",
        "e3 = ('/', ('*', 'x', 'x'), ('*', 'x', 1))\n",
        "check_equal(value_equality(e1, e3), True)\n",
        "\n",
        "e4 = ('/', 'y', 2)\n",
        "check_equal(value_equality(e1, e4), False)\n",
        "check_equal(value_equality(e3, e4), False)\n",
        "\n",
        "e5 = \"4\"\n",
        "e6 = \"5\"\n",
        "check_equal(value_equality(e5, e5), True)\n",
        "check_equal(value_equality(e5, e6), False)\n",
        "\n",
        "e7 = (\"+\", \"aa\", \"aa\")\n",
        "e8 = (\"+\", \"aa\", \"ab\")\n",
        "e9 = (\"*\", 2, \"aa\")\n",
        "check_equal(value_equality(e7, e8), False)\n",
        "check_equal(value_equality(e8, e7), False)\n",
        "check_equal(value_equality(e7, e9), True)\n",
        "check_equal(value_equality(e9, e7), True)\n",
        "\n"
      ],
      "execution_count": null,
      "outputs": []
    }
  ]
}